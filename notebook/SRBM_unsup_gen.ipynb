{
 "cells": [
  {
   "cell_type": "markdown",
   "id": "2f1974e2",
   "metadata": {},
   "source": [
    "# Unsupervised SRBM\n",
    "\n",
    "We can train RBM unsupervised.\n",
    "\n",
    "Originally, we use data and model distribution to maximize the loglikelihood.\n",
    "\n",
    "\\begin{align}\n",
    "{\\rm Max} \\left\\langle \\ln ( q(\\phi) ) \\right\\rangle_{p}\n",
    "\\end{align}\n",
    "\n",
    "Instead we can use generated data to estimate p.\n",
    "\n",
    "\\begin{align}\n",
    "\\mathcal{L} &= {\\rm Max} \\left\\langle \\ln ( p(\\phi) ) \\right\\rangle_{q} \\\\\n",
    "&= {\\rm Max} \\left\\langle -S_{\\phi}(\\phi) - \\ln Z \\right\\rangle\n",
    "\\end{align}\n",
    "\n",
    "\\begin{align}\n",
    "\\frac{\\partial \\mathcal{L}}{\\partial w_{ia}} &= -\\frac{\\partial \\langle S_{\\phi}(\\phi^{\\rm rbm}) \\rangle_{q}}{\\partial w_{ia}}\n",
    " - \\langle \\phi_i \\phi_j w_{ja} \\rangle_{q} \\\\\n",
    " &= \\left\\langle S_{\\phi}(\\phi) \\frac{\\partial S_{\\rm RBM}}{\\partial w_{ia}} \\right\\rangle - \\langle \\phi_i \\phi_j w_{ja} \\rangle \\\\\n",
    " &= \\left\\langle S_{\\phi} (\\phi) \\phi_i \\phi_j w_{ja} \\right\\rangle - \\langle \\phi_i \\phi_j w_{ja} \\rangle\n",
    "\\end{align}\n",
    "\n",
    "or\n",
    "\n",
    "\\begin{align}\n",
    "\\frac{\\partial \\mathcal{L}}{\\partial w_{ia}} &= \\langle \\phi_i \\phi_j w_{ja} \\rangle_{q}\n",
    " - \\langle \\phi_i \\phi_j w_{ja} \\rangle_{q} \\\\\n",
    " &= K^{-1}_{\\phi, ij}w_{ja} - K^{-1}_{\\rm RBM, ij} w_{ja}\n",
    "\\end{align}\n",
    "\n",
    "We have to know the expression for one-point and two point function."
   ]
  },
  {
   "cell_type": "code",
   "execution_count": null,
   "id": "5edf96ed",
   "metadata": {},
   "outputs": [],
   "source": [
    "import numpy as np\n",
    "import matplotlib.pyplot as plt\n",
    "%matplotlib inline\n",
    "import os, sys\n",
    "\n",
    "import torch\n",
    "from torch.utils.data import TensorDataset, DataLoader\n",
    "import torch.nn as nn\n",
    "import torch.nn.functional as F\n",
    "import torch.optim as optim\n",
    "from torch.autograd import Variable\n",
    "from torchvision import datasets, transforms\n",
    "from torchvision.utils import make_grid , save_image\n",
    "\n",
    "import random\n",
    "\n",
    "# Change accordingly to your directory structure\n",
    "sys.path.append('../')\n",
    "import RBM"
   ]
  },
  {
   "cell_type": "code",
   "execution_count": null,
   "id": "53f16020",
   "metadata": {},
   "outputs": [],
   "source": [
    "N = 10"
   ]
  },
  {
   "cell_type": "code",
   "execution_count": null,
   "id": "f1f78dcd",
   "metadata": {},
   "outputs": [],
   "source": [
    "conf_id = 'phi_1d_10N_2m'\n",
    "# data_file = np.load('../datas/scalar_field/phi_1d_10N_2m_2/phi_1d_10N_2m_2.npy')\n",
    "# data_file = np.load('../datas/scalar_field/'+conf_id+'/'+conf_id+'.npy')\n",
    "# n_data = len(data_file)"
   ]
  },
  {
   "cell_type": "code",
   "execution_count": null,
   "id": "82ab4c28",
   "metadata": {},
   "outputs": [],
   "source": [
    "def S(field, m):\n",
    "    N = len(field)\n",
    "    s = 0.\n",
    "    for i in range(N):\n",
    "        s += -0.5*field[i]*(field[(i+1)%N]\n",
    "                            + field[(i-1)%N] - (2.+ m[i]**2)*field[i])\n",
    "\n",
    "    return s/N\n",
    "\n",
    "def S_fast(field,m=2.):\n",
    "    s = m**2 * field**2\n",
    "    s += 2.*field**2\n",
    "    s -= field*torch.roll(field,-1,dims=1)\n",
    "    s -= field*torch.roll(field,1, dims=1)\n",
    "    return torch.sum(0.5*s)/N"
   ]
  },
  {
   "cell_type": "code",
   "execution_count": null,
   "id": "eaada973",
   "metadata": {},
   "outputs": [],
   "source": [
    "# True matrix\n",
    "m = 2\n",
    "W = np.zeros((N,N))\n",
    "\n",
    "for i in range(N):\n",
    "    for j in range(N):\n",
    "        if i==j:\n",
    "            W[i][j] = 2 + m**2\n",
    "#             W[i][j] = 2.\n",
    "        elif (i % N == (j+1) %N) or (i % N == (j-1) %N):\n",
    "            W[i][j] = -1\n",
    "print(W)\n",
    "K_phi = W"
   ]
  },
  {
   "cell_type": "markdown",
   "id": "996184b4",
   "metadata": {},
   "source": [
    "$w w^T = -K_{\\phi} + m^2$"
   ]
  },
  {
   "cell_type": "code",
   "execution_count": null,
   "id": "e0add862",
   "metadata": {},
   "outputs": [],
   "source": [
    "# Cholesky solution\n",
    "W_phi = np.linalg.cholesky(-K_phi + np.diag([5**2]*N))"
   ]
  },
  {
   "cell_type": "code",
   "execution_count": null,
   "id": "8026492b",
   "metadata": {},
   "outputs": [],
   "source": [
    "-K_phi + np.diag([5**2]*N)"
   ]
  },
  {
   "cell_type": "code",
   "execution_count": null,
   "id": "b4251c7d",
   "metadata": {},
   "outputs": [],
   "source": [
    "W_phi @ W_phi.T"
   ]
  },
  {
   "cell_type": "code",
   "execution_count": null,
   "id": "852ad4e5",
   "metadata": {},
   "outputs": [],
   "source": [
    "plt.imshow(W_phi, cmap='gray')\n",
    "plt.colorbar()\n",
    "plt.show()"
   ]
  },
  {
   "cell_type": "code",
   "execution_count": null,
   "id": "7b1ea3a5",
   "metadata": {},
   "outputs": [],
   "source": [
    "W_phi"
   ]
  },
  {
   "cell_type": "code",
   "execution_count": null,
   "id": "fb311933",
   "metadata": {},
   "outputs": [],
   "source": [
    "N = 10\n",
    "# Initialization scheme.\n",
    "# Initialize w with Cholesky solution W_phi and mass=5 sigma=1\n",
    "# init_cond = {'w':torch.DoubleTensor(W_phi.copy()),'m':5., 'sig':1.}\n",
    "# init_cond = {'m':3., 'sig':1., 'm_scheme':'local'}\n",
    "init_cond = {'m':3., 'sig':1., 'm_scheme':'global'}\n",
    "\n",
    "# Reproducibility\n",
    "torch.manual_seed(1234)\n",
    "random.seed(1234)\n",
    "np.random.seed(1234)\n",
    "\n",
    "# Initialize SRBM\n",
    "rbm = RBM.SRBM(n_v=N,n_h=N,k=10,init_cond=init_cond)\n",
    "\n",
    "# For autograd if implimented\n",
    "# train_op = optim.SGD(rbm.parameters(),1e-7)\n",
    "# train_op = optim.Adam(rbm.parameters(),1e-5)\n",
    "\n",
    "# Check initial coupling matrix\n",
    "print(rbm.w)\n",
    "\n",
    "# Training parameters\n",
    "lr = 1e-1\n",
    "epochs = 3000\n",
    "batch_size = 64\n",
    "\n",
    "# Initial field.\n",
    "# Cold start\n",
    "init_field = torch.ones((batch_size,N))\n",
    "\n",
    "# wrap K_phi to torch\n",
    "K_phi_tc = torch.DoubleTensor(K_phi)"
   ]
  },
  {
   "cell_type": "code",
   "execution_count": null,
   "id": "be3026e0",
   "metadata": {},
   "outputs": [],
   "source": [
    "# Save and load model\n",
    "rbm.save('./')\n",
    "saved_model = rbm.name\n",
    "print(saved_model)\n",
    "rbm = RBM.SRBM(load='./'+saved_model+'.npz')"
   ]
  },
  {
   "cell_type": "code",
   "execution_count": null,
   "id": "01804afb",
   "metadata": {},
   "outputs": [],
   "source": [
    "!rm *.npz"
   ]
  },
  {
   "cell_type": "code",
   "execution_count": null,
   "id": "39f8829d",
   "metadata": {},
   "outputs": [],
   "source": [
    "# Train the model\n",
    "history = rbm.unsup_fit(K_phi_tc, S_fast, epochs, lr, batch_size, verbose=True, lr_decay=0.99)"
   ]
  },
  {
   "cell_type": "markdown",
   "id": "b77b8115",
   "metadata": {},
   "source": [
    "# Training result"
   ]
  },
  {
   "cell_type": "code",
   "execution_count": null,
   "id": "a9f2d513",
   "metadata": {},
   "outputs": [],
   "source": [
    "plot_dir = '../plots/'\n",
    "model_name ='normal'"
   ]
  },
  {
   "cell_type": "code",
   "execution_count": null,
   "id": "08a49954",
   "metadata": {},
   "outputs": [],
   "source": [
    "# Loss function\n",
    "plt.plot(np.arange(len(history['loss'])),history['loss'])\n",
    "plt.title('KL')\n",
    "plt.xlabel('epoch')\n",
    "plt.ylabel(r'$\\mathcal{L}$')\n",
    "# plt.savefig(plot_dir+model_name+'_lc.jpg')\n",
    "plt.show()"
   ]
  },
  {
   "cell_type": "code",
   "execution_count": null,
   "id": "42f930bc",
   "metadata": {},
   "outputs": [],
   "source": [
    "# Gradient\n",
    "plt.plot(np.arange(len(history['dw'])),np.mean(np.mean(history['dw'], axis=1),axis=1), label='mean')\n",
    "plt.plot(np.arange(len(history['dw'])),np.min(np.min(history['dw'], axis=1),axis=1), label='min')\n",
    "plt.plot(np.arange(len(history['dw'])),np.max(np.max(history['dw'], axis=1),axis=1), label='max')\n",
    "plt.title('dW')\n",
    "plt.xlabel('epoch')\n",
    "plt.ylabel(r'$\\frac{d L}{dw}$')\n",
    "plt.legend()\n",
    "# plt.savefig(plot_dir+model_name+'_lc.jpg')\n",
    "plt.show()"
   ]
  },
  {
   "cell_type": "code",
   "execution_count": null,
   "id": "4eaf6804",
   "metadata": {},
   "outputs": [],
   "source": [
    "n_samples = 1000\n",
    "recon_field = torch.ones((n_samples, N))\n",
    "v_pred, v_, h_pred, _, v = rbm.forward(recon_field,n_samples)\n",
    "n_samples = len(v)\n",
    "# S_true = np.zeros(n_data)\n",
    "S_pred = np.zeros(n_samples)\n",
    "S_K = np.zeros(n_samples)\n",
    "M = m*np.ones(N)\n",
    "\n",
    "# for i in range(n_data):\n",
    "#     S_true[i] = S(data_file[i],M)\n",
    "\n",
    "for i in range(n_samples):\n",
    "    S_pred[i] = S(v_.data.numpy()[i],M)\n",
    "    S_K[i] = -rbm.free_energy(v_[i:i+1]).data.numpy()\n",
    "#     w_ = rbm.W.data.numpy().copy()\n",
    "#     m_ = rbm.mass.data.numpy().copy()\n",
    "#     sig_ = rbm.h_std\n",
    "#     Kin = -sig_**2 *(w_.T @ w_)\n",
    "#     Mss = np.diag(m_**2)m\n",
    "#     s_ = 0.5 * v_pred.data.numpy()[i] @ (Kin + Mss) @ v_pred.data.numpy()[i].T/N\n",
    "#     S_K[i] = s_\n",
    "\n",
    "plt.hist(S_K, bins=50, density=True, color='C2', label='Model', alpha=0.8)\n",
    "plt.hist(S_pred, bins=50, density=True, color='C1', label='Reconstructed', alpha=0.8)    \n",
    "# plt.hist(S_true, bins=50, density=True, color='C0', label='MCMC data', alpha=0.8)\n",
    "plt.legend()\n",
    "plt.title('Action histogram')\n",
    "# plt.savefig(plot_dir+model_name+'_S.jpg')\n",
    "plt.show()"
   ]
  },
  {
   "cell_type": "code",
   "execution_count": null,
   "id": "1cfa2cb7",
   "metadata": {},
   "outputs": [],
   "source": [
    "np.mean(S_pred)"
   ]
  },
  {
   "cell_type": "code",
   "execution_count": null,
   "id": "c12af984",
   "metadata": {},
   "outputs": [],
   "source": [
    "np.std(S_pred)"
   ]
  },
  {
   "cell_type": "code",
   "execution_count": null,
   "id": "df64dca4",
   "metadata": {},
   "outputs": [],
   "source": [
    "# SVD of coupling matrix squared\n",
    "s_hist = np.zeros((epochs,N))\n",
    "for i in range(epochs):\n",
    "    _, s_, _ = np.linalg.svd(history['w'][i])\n",
    "    s_hist[i] = s_\n",
    "\n",
    "plt.plot(np.arange(epochs),s_hist**2)\n",
    "plt.grid(True)\n",
    "plt.xlabel('epoch')\n",
    "plt.ylabel(r'$w_{\\alpha}^2$')\n",
    "plt.title(r'$w^2$ evolution')\n",
    "# plt.savefig(plot_dir+model_name+'_w.jpg')\n",
    "plt.show()"
   ]
  },
  {
   "cell_type": "code",
   "execution_count": null,
   "id": "6c017711",
   "metadata": {},
   "outputs": [],
   "source": [
    "# Last few steps\n",
    "plt.plot(np.arange(epochs)[-10:],s_hist[-10:]**2, '.-')\n",
    "plt.grid(True)\n",
    "plt.xlabel('epoch')\n",
    "plt.ylabel(r'$w_{\\alpha}^2$')\n",
    "plt.title(r'$w^2$ evolution')\n",
    "# plt.savefig(plot_dir+model_name+'_w.jpg')\n",
    "plt.show()"
   ]
  },
  {
   "cell_type": "code",
   "execution_count": null,
   "id": "c55f2edd",
   "metadata": {},
   "outputs": [],
   "source": [
    "# SVD of coupling matrix not squared\n",
    "plt.plot(np.arange(epochs),s_hist, '-')\n",
    "plt.grid(True)\n",
    "plt.xlabel('epoch')\n",
    "plt.ylabel(r'$w_{\\alpha}$')\n",
    "plt.title(r'$w_{\\alpha}$ evolution')\n",
    "# plt.savefig(plot_dir+model_name+'_w.jpg')\n",
    "plt.show()"
   ]
  },
  {
   "cell_type": "code",
   "execution_count": null,
   "id": "3bfcabd6",
   "metadata": {},
   "outputs": [],
   "source": [
    "# Last few steps\n",
    "plt.plot(np.arange(epochs)[-10:],s_hist[-10:], '.-')\n",
    "plt.grid(True)\n",
    "plt.xlabel('epoch')\n",
    "plt.ylabel(r'$w_{\\alpha}$')\n",
    "plt.title(r'$w_{\\alpha}$ evolution')\n",
    "# plt.savefig(plot_dir+model_name+'_w.jpg')\n",
    "plt.show()"
   ]
  },
  {
   "cell_type": "code",
   "execution_count": null,
   "id": "ed0c4255",
   "metadata": {},
   "outputs": [],
   "source": [
    "# Kernel SVD values\n",
    "s_hist = np.zeros((epochs,N))\n",
    "mu2 = np.diag(np.ones(N))\n",
    "\n",
    "for i in range(epochs):\n",
    "    WW_ = history['w'][i].T@history['w'][i]\n",
    "    K_ = -rbm.sig**2 * WW_ + np.diag(history['m'][i]**2)\n",
    "    if i ==0:\n",
    "        K_i = K_.copy()\n",
    "    s_ = np.sort(np.linalg.eigvals(K_))\n",
    "    s_hist[i] = s_\n",
    "\n",
    "plt.plot(np.arange(epochs),s_hist)\n",
    "plt.grid(True)\n",
    "plt.xlabel('epoch')\n",
    "plt.ylabel(r'$K_{\\alpha}$')\n",
    "plt.title('K eigenvalue')\n",
    "# plt.savefig(plot_dir+model_name+'_K.jpg')\n",
    "plt.show()"
   ]
  },
  {
   "cell_type": "code",
   "execution_count": null,
   "id": "bc89500e",
   "metadata": {},
   "outputs": [],
   "source": [
    "# Last few steps\n",
    "plt.plot(np.arange(epochs)[-10:],s_hist[-10:], '.-')\n",
    "plt.grid(True)\n",
    "plt.xlabel('epoch')\n",
    "plt.ylabel(r'$K_{\\alpha}$')\n",
    "plt.title('K eigenvalue')\n",
    "# plt.savefig(plot_dir+model_name+'_K.jpg')\n",
    "plt.show()"
   ]
  },
  {
   "cell_type": "code",
   "execution_count": null,
   "id": "146f5f7d",
   "metadata": {},
   "outputs": [],
   "source": [
    "# Mass parameter of the model\n",
    "plt.plot(np.arange(len(history['m'])),history['m'])\n",
    "plt.axhline(np.sqrt(m**2 + 2. + 2.), ls='--', color='C3', label='Minimum Cholesky mass limit')\n",
    "plt.title('Mass evolution')\n",
    "plt.xlabel('epoch')\n",
    "plt.ylabel('mass')\n",
    "plt.legend()\n",
    "plt.grid(True)\n",
    "# plt.savefig(plot_dir+model_name+'_mass.jpg')\n",
    "plt.show()"
   ]
  },
  {
   "cell_type": "code",
   "execution_count": null,
   "id": "9d625908",
   "metadata": {},
   "outputs": [],
   "source": [
    "# Last few steps\n",
    "plt.plot(np.arange(len(history['m']))[-10:],history['m'][-10:], '.-')\n",
    "# plt.axhline(np.sqrt(m**2 + 2. + 2.), ls='--', color='C3', label='Minimum Cholesky mass limit')\n",
    "plt.title('Mass evolution')\n",
    "plt.xlabel('epoch')\n",
    "plt.ylabel('mass')\n",
    "# plt.legend()\n",
    "plt.grid(True)\n",
    "# plt.savefig(plot_dir+model_name+'_mass.jpg')\n",
    "plt.show()"
   ]
  },
  {
   "cell_type": "code",
   "execution_count": null,
   "id": "0d28be1d",
   "metadata": {},
   "outputs": [],
   "source": [
    "# K_rbm off diagonal part\n",
    "Kin = (-rbm.sig**2 * (rbm.w.t() @ rbm.w)).data.numpy()\n",
    "Mss = np.diag((rbm.m**2).data.numpy())\n",
    "K = Kin + Mss\n",
    "\n",
    "K_off = K - np.diag(np.diag(K))\n",
    "plt.imshow(K_off, cmap='gray', vmax=K_off.max(), vmin=K_off.min())\n",
    "plt.colorbar()\n",
    "plt.title('K off diagonal')\n",
    "# plt.savefig(plot_dir+model_name+'_K_img.jpg')\n",
    "plt.show()"
   ]
  },
  {
   "cell_type": "code",
   "execution_count": null,
   "id": "8ba56839",
   "metadata": {},
   "outputs": [],
   "source": [
    "# Coupling matrix as image\n",
    "w_rbm = rbm.w.data.numpy()\n",
    "plt.imshow(w_rbm, cmap='gray')\n",
    "plt.colorbar()\n",
    "plt.title('W')\n",
    "# plt.savefig(plot_dir+model_name+'_K_img.jpg')\n",
    "plt.show()"
   ]
  },
  {
   "cell_type": "code",
   "execution_count": null,
   "id": "48cad59e",
   "metadata": {},
   "outputs": [],
   "source": [
    "# Coupling matrix off-diagonal\n",
    "w_rbm = rbm.w.data.numpy()\n",
    "plt.imshow(w_rbm - np.diag(np.diag(w_rbm)), cmap='gray')\n",
    "plt.colorbar()\n",
    "plt.title('W off-diagonal part')\n",
    "# plt.savefig(plot_dir+model_name+'_K_img.jpg')\n",
    "plt.show()"
   ]
  },
  {
   "cell_type": "code",
   "execution_count": null,
   "id": "d0b074d8",
   "metadata": {},
   "outputs": [],
   "source": [
    "# Difference between Choleski(initial) solution to the trained solution\n",
    "diff = W_phi - w_rbm\n",
    "plt.imshow(diff, cmap='gray')\n",
    "plt.colorbar()\n",
    "plt.show()\n",
    "\n",
    "print('mean: ',np.mean(diff))\n",
    "print('std: ',np.std(diff))"
   ]
  },
  {
   "cell_type": "code",
   "execution_count": null,
   "id": "e101b4b5",
   "metadata": {},
   "outputs": [],
   "source": [
    "# Evolution of det(ww^T)\n",
    "det_hist = np.zeros(epochs)\n",
    "for i in range(epochs):\n",
    "    det = np.linalg.det(history['w'][i].T @ history['w'][i])\n",
    "    det_hist[i] = det\n",
    "\n",
    "plt.plot(np.arange(epochs),det_hist,'C9')\n",
    "plt.grid(True)\n",
    "plt.xlabel('epoch')\n",
    "plt.ylabel(r'det($ww$)')\n",
    "plt.title(r'det(ww) evolution')\n",
    "# plt.savefig(plot_dir+model_name+'_w.jpg')\n",
    "plt.show()"
   ]
  },
  {
   "cell_type": "code",
   "execution_count": null,
   "id": "383063ce",
   "metadata": {},
   "outputs": [],
   "source": [
    "plt.plot(np.arange(len(history['S'])),history['S'])\n",
    "plt.title('Action density')\n",
    "plt.xlabel('epoch')\n",
    "plt.ylabel(r'$\\mathcal{s}$')\n",
    "plt.grid(True)\n",
    "plt.show()"
   ]
  },
  {
   "cell_type": "markdown",
   "id": "05251d28",
   "metadata": {},
   "source": [
    "# Scaling of K_RBM"
   ]
  },
  {
   "cell_type": "code",
   "execution_count": null,
   "id": "0488d276",
   "metadata": {},
   "outputs": [],
   "source": [
    "# Least square fit\n",
    "def loss(K, K_phi, Zk, b, r):\n",
    "    return np.sum((K - Zk*K_phi - b - r)**2)\n",
    "\n",
    "def dL_dZ(K, K_phi, Zk, b, r):\n",
    "    return -np.sum(2.*(K - Zk*K_phi - b - r)*K_phi)\n",
    "\n",
    "def dL_db(K, K_phi, Zk, b, r):\n",
    "    return -np.sum(2.*(K - Zk*K_phi - b - r))\n",
    "\n",
    "def dL_dr(K, K_phi, Zk, b, r):\n",
    "    return -2.*(K - Zk*K_phi - b - r)\n",
    "\n",
    "def get_scale(model, verbose=True):\n",
    "    Kin = (-model.sig**2 * (model.w.t() @ model.w)).data.numpy()\n",
    "    Mss = np.diag((model.m**2).data.numpy())\n",
    "    K = Kin + Mss\n",
    "    mu_ = model.m.data.numpy()\n",
    "    Zk_gd = mu_.min()**2/(2.**2 + 4)\n",
    "\n",
    "    np.random.seed(1234)\n",
    "    r_seed = np.random.normal(0.,.01,size=K.shape) # ~ sigma^2\n",
    "    r_gd = r_seed.T @ r_seed\n",
    "    b_gd = 0.\n",
    "    lr = 1e-5\n",
    "\n",
    "    for i in range(10000):\n",
    "        l = loss(K, K_phi, Zk_gd, b_gd, r_gd)\n",
    "    #     print(l)\n",
    "        dZ = lr * dL_dZ(K, K_phi, Zk_gd, b_gd, r_gd)\n",
    "        db = lr * dL_db(K, K_phi, Zk_gd, b_gd, r_gd)\n",
    "        dr = lr * dL_dr(K, K_phi, Zk_gd, b_gd, r_gd)\n",
    "\n",
    "        Zk_gd -= dZ\n",
    "        b_gd -= db\n",
    "        r_gd -= dr\n",
    "        if i%1000 == 0 and verbose:\n",
    "            print(i, l, Zk_gd, b_gd)\n",
    "            \n",
    "    return Zk_gd, b_gd, r_gd, K"
   ]
  },
  {
   "cell_type": "code",
   "execution_count": null,
   "id": "3d042328",
   "metadata": {},
   "outputs": [],
   "source": [
    "Zk, b, r, K = get_scale(rbm)"
   ]
  },
  {
   "cell_type": "code",
   "execution_count": null,
   "id": "66453d95",
   "metadata": {},
   "outputs": [],
   "source": [
    "Zk"
   ]
  },
  {
   "cell_type": "markdown",
   "id": "db85305a",
   "metadata": {},
   "source": [
    "# Compare Kernel"
   ]
  },
  {
   "cell_type": "code",
   "execution_count": null,
   "id": "cc7f0f3e",
   "metadata": {},
   "outputs": [],
   "source": [
    "# Trained Kernel\n",
    "plt.title(r\"$K_{\\rm RBM}$\")\n",
    "plt.imshow(K, cmap='gray')\n",
    "plt.colorbar()\n",
    "plt.show()"
   ]
  },
  {
   "cell_type": "code",
   "execution_count": null,
   "id": "27cf7603",
   "metadata": {},
   "outputs": [],
   "source": [
    "# Trained Kernel\n",
    "plt.title(r\"$K_{\\phi}$\")\n",
    "plt.imshow(K_phi, cmap='gray')\n",
    "plt.colorbar()\n",
    "plt.show()"
   ]
  },
  {
   "cell_type": "code",
   "execution_count": null,
   "id": "b308ddd7",
   "metadata": {},
   "outputs": [],
   "source": [
    "# Difference between Choleski(initial) solution to the trained solution\n",
    "diff = K_phi - K\n",
    "plt.imshow(diff, cmap='gray')\n",
    "plt.colorbar()\n",
    "plt.show()\n",
    "\n",
    "print('mean: ',np.mean(diff))\n",
    "print('std: ',np.std(diff))"
   ]
  },
  {
   "cell_type": "markdown",
   "id": "acc5841e",
   "metadata": {},
   "source": [
    "# Compare two-point correlator"
   ]
  },
  {
   "cell_type": "code",
   "execution_count": null,
   "id": "77f679f7",
   "metadata": {},
   "outputs": [],
   "source": [
    "n_samples = 1000\n",
    "init_field = torch.ones((n_samples,N))\n",
    "regen, regen_, _, _, in_data = rbm.forward(init_field,10)"
   ]
  },
  {
   "cell_type": "code",
   "execution_count": null,
   "id": "d1b480e3",
   "metadata": {},
   "outputs": [],
   "source": [
    "C_phi = np.linalg.inv(K_phi)\n",
    "C_rbm_kernel = np.linalg.inv(K)\n",
    "C_rbm_sample = np.cov(regen_.data.numpy().copy().T)"
   ]
  },
  {
   "cell_type": "code",
   "execution_count": null,
   "id": "da207fd8",
   "metadata": {},
   "outputs": [],
   "source": [
    "plt.title('True correlation matrix')\n",
    "plt.imshow(C_phi, cmap='gray')\n",
    "plt.colorbar()\n",
    "plt.show()"
   ]
  },
  {
   "cell_type": "code",
   "execution_count": null,
   "id": "1c9696ab",
   "metadata": {},
   "outputs": [],
   "source": [
    "plt.title('Trained correlation matrix (Kernel)')\n",
    "plt.imshow(C_rbm_kernel, cmap='gray')\n",
    "plt.colorbar()\n",
    "plt.show()"
   ]
  },
  {
   "cell_type": "code",
   "execution_count": null,
   "id": "d560ce39",
   "metadata": {},
   "outputs": [],
   "source": [
    "plt.title('Trained correlation matrix (samples)')\n",
    "plt.imshow(C_rbm_sample, cmap='gray')\n",
    "plt.colorbar()\n",
    "plt.show()"
   ]
  },
  {
   "cell_type": "code",
   "execution_count": null,
   "id": "082ded86",
   "metadata": {},
   "outputs": [],
   "source": []
  },
  {
   "cell_type": "code",
   "execution_count": null,
   "id": "47d6ad8d",
   "metadata": {},
   "outputs": [],
   "source": []
  },
  {
   "cell_type": "code",
   "execution_count": null,
   "id": "e2d8b833",
   "metadata": {},
   "outputs": [],
   "source": []
  }
 ],
 "metadata": {
  "kernelspec": {
   "display_name": "Python 3 (ipykernel)",
   "language": "python",
   "name": "python3"
  },
  "language_info": {
   "codemirror_mode": {
    "name": "ipython",
    "version": 3
   },
   "file_extension": ".py",
   "mimetype": "text/x-python",
   "name": "python",
   "nbconvert_exporter": "python",
   "pygments_lexer": "ipython3",
   "version": "3.10.9"
  }
 },
 "nbformat": 4,
 "nbformat_minor": 5
}
