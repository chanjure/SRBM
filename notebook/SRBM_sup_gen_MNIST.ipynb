{
 "cells": [
  {
   "cell_type": "markdown",
   "id": "2f1974e2",
   "metadata": {},
   "source": [
    "# Supervised SRBM"
   ]
  },
  {
   "cell_type": "code",
   "execution_count": null,
   "id": "5edf96ed",
   "metadata": {},
   "outputs": [],
   "source": [
    "import numpy as np\n",
    "import matplotlib.pyplot as plt\n",
    "%matplotlib inline\n",
    "import os, sys\n",
    "\n",
    "import torch\n",
    "from torch.utils.data import TensorDataset, DataLoader, random_split\n",
    "import torch.nn as nn\n",
    "import torch.nn.functional as F\n",
    "import torch.optim as optim\n",
    "from torch.autograd import Variable\n",
    "from torchvision import datasets, transforms\n",
    "from torchvision.utils import make_grid , save_image\n",
    "\n",
    "import random\n",
    "\n",
    "# Change accordingly to your directory structure\n",
    "sys.path.append('../')\n",
    "import RBM"
   ]
  },
  {
   "cell_type": "markdown",
   "id": "af8dd6a4",
   "metadata": {},
   "source": [
    "## MNIST"
   ]
  },
  {
   "cell_type": "code",
   "execution_count": null,
   "id": "fb311933",
   "metadata": {},
   "outputs": [],
   "source": [
    "N = 10\n",
    "# Initialization scheme.\n",
    "# Initialize w with Cholesky solution W_phi and mass=5 sigma=1\n",
    "# init_cond = {'w':torch.DoubleTensor(W_phi.copy()),'m':5., 'sig':1.}\n",
    "# init_cond = {'m':3., 'sig':1., 'm_scheme':'local'}\n",
    "# init_cond = {'w_sig':1e-1, 'm':3., 'sig':1., 'm_scheme':'global'}\n",
    "init_cond = {'w_sig':1e-1, 'm':12., 'sig':1., 'm_scheme':0}\n",
    "\n",
    "# Reproducibility\n",
    "torch.manual_seed(42)\n",
    "random.seed(42)\n",
    "np.random.seed(42)\n",
    "\n",
    "# Initialize SRBM\n",
    "rbm = RBM.SRBM(n_v=784,n_h=N,k=10,init_cond=init_cond)\n",
    "\n",
    "# For autograd if implimented\n",
    "# train_op = optim.SGD(rbm.parameters(),1e-7)\n",
    "# train_op = optim.Adam(rbm.parameters(),1e-5)\n",
    "\n",
    "# Check initial coupling matrix\n",
    "print(rbm.w)\n",
    "\n",
    "# Training parameters\n",
    "lr = 1e-3\n",
    "\n",
    "epochs = 10\n",
    "batch_size = 31\n",
    "save_int = 2\n",
    "\n",
    "train_ds = datasets.MNIST('../data',\n",
    "                          train=True,\n",
    "                          download = True,\n",
    "                          transform = transforms.Compose(\n",
    "                              [transforms.ToTensor()])\n",
    "                         )\n",
    "\n",
    "# Use only part of data because it is memory intensive\n",
    "train_ds, validation_data = random_split(train_ds, [3000, 57000])\n",
    "\n",
    "train_dl = torch.utils.data.DataLoader(\n",
    "    train_ds,\n",
    "    batch_size=batch_size\n",
    ")"
   ]
  },
  {
   "cell_type": "code",
   "execution_count": null,
   "id": "be3026e0",
   "metadata": {},
   "outputs": [],
   "source": [
    "# Save and load model\n",
    "rbm.save('../models/')\n",
    "saved_model = rbm.name\n",
    "print(saved_model)\n",
    "rbm = RBM.SRBM(load='../models/'+saved_model+'.npz')"
   ]
  },
  {
   "cell_type": "code",
   "execution_count": null,
   "id": "01804afb",
   "metadata": {},
   "outputs": [],
   "source": [
    "!rm ../models/*.npz"
   ]
  },
  {
   "cell_type": "code",
   "execution_count": null,
   "id": "39f8829d",
   "metadata": {},
   "outputs": [],
   "source": [
    "# Train the model\n",
    "history = rbm.fit(train_dl, epochs, lr, beta=0.5, l2=1e-2, verbose=True, lr_decay=0, save_int=save_int)"
   ]
  },
  {
   "cell_type": "markdown",
   "id": "b77b8115",
   "metadata": {},
   "source": [
    "# Training result"
   ]
  },
  {
   "cell_type": "code",
   "execution_count": null,
   "id": "a9f2d513",
   "metadata": {},
   "outputs": [],
   "source": [
    "plot_dir = '../plots/'\n",
    "model_name ='normal'\n",
    "x = np.arange(0,epochs+1,save_int)"
   ]
  },
  {
   "cell_type": "code",
   "execution_count": null,
   "id": "08a49954",
   "metadata": {},
   "outputs": [],
   "source": [
    "# Loss function\n",
    "plt.plot(x,history['loss'])\n",
    "plt.title('KL')\n",
    "plt.xlabel('epoch')\n",
    "plt.ylabel(r'$\\mathcal{L}$')\n",
    "# plt.savefig(plot_dir+model_name+'_lc.jpg')\n",
    "plt.show()"
   ]
  },
  {
   "cell_type": "code",
   "execution_count": null,
   "id": "42f930bc",
   "metadata": {},
   "outputs": [],
   "source": [
    "# Gradient\n",
    "plt.plot(x,np.mean(np.mean(history['dw'], axis=1),axis=1), label='mean')\n",
    "plt.plot(x,np.min(np.min(history['dw'], axis=1),axis=1), label='min')\n",
    "plt.plot(x,np.max(np.max(history['dw'], axis=1),axis=1), label='max')\n",
    "plt.title('dW')\n",
    "plt.xlabel('epoch')\n",
    "plt.ylabel(r'$\\frac{d L}{dw}$')\n",
    "plt.legend()\n",
    "# plt.savefig(plot_dir+model_name+'_lc.jpg')\n",
    "plt.show()"
   ]
  },
  {
   "cell_type": "code",
   "execution_count": null,
   "id": "df64dca4",
   "metadata": {},
   "outputs": [],
   "source": [
    "# SVD of coupling matrix squared\n",
    "s_hist = np.zeros((len(x),N))\n",
    "for i in range(len(x)):\n",
    "    _, s_, _ = np.linalg.svd(history['w'][i])\n",
    "    s_hist[i] = s_\n",
    "\n",
    "plt.plot(x,s_hist**2)\n",
    "plt.grid(True)\n",
    "plt.xlabel('epoch')\n",
    "plt.ylabel(r'$w_{\\alpha}^2$')\n",
    "plt.title(r'$w^2$ evolution')\n",
    "# plt.savefig(plot_dir+model_name+'_w.jpg')\n",
    "plt.show()"
   ]
  },
  {
   "cell_type": "code",
   "execution_count": null,
   "id": "6c017711",
   "metadata": {},
   "outputs": [],
   "source": [
    "# Last few steps\n",
    "plt.plot(x[-10:],s_hist[-10:]**2, '.-')\n",
    "plt.grid(True)\n",
    "plt.xlabel('epoch')\n",
    "plt.ylabel(r'$w_{\\alpha}^2$')\n",
    "plt.title(r'$w^2$ evolution')\n",
    "# plt.savefig(plot_dir+model_name+'_w.jpg')\n",
    "plt.show()"
   ]
  },
  {
   "cell_type": "code",
   "execution_count": null,
   "id": "c55f2edd",
   "metadata": {},
   "outputs": [],
   "source": [
    "# SVD of coupling matrix not squared\n",
    "plt.plot(x,s_hist, '-')\n",
    "plt.grid(True)\n",
    "plt.xlabel('epoch')\n",
    "plt.ylabel(r'$w_{\\alpha}$')\n",
    "plt.title(r'$w_{\\alpha}$ evolution')\n",
    "# plt.savefig(plot_dir+model_name+'_w.jpg')\n",
    "plt.show()"
   ]
  },
  {
   "cell_type": "code",
   "execution_count": null,
   "id": "3bfcabd6",
   "metadata": {},
   "outputs": [],
   "source": [
    "# Last few steps\n",
    "plt.plot(x[-10:],s_hist[-10:], '.-')\n",
    "plt.grid(True)\n",
    "plt.xlabel('epoch')\n",
    "plt.ylabel(r'$w_{\\alpha}$')\n",
    "plt.title(r'$w_{\\alpha}$ evolution')\n",
    "# plt.savefig(plot_dir+model_name+'_w.jpg')\n",
    "plt.show()"
   ]
  },
  {
   "cell_type": "code",
   "execution_count": null,
   "id": "ed0c4255",
   "metadata": {},
   "outputs": [],
   "source": [
    "# Kernel SVD values\n",
    "s_hist = np.zeros((len(x),784))\n",
    "mu2 = np.diag(np.ones(784))\n",
    "\n",
    "for i in range(len(x)):\n",
    "    WW_ = history['w'][i].T@history['w'][i]\n",
    "    K_ = -rbm.sig**2 * WW_ + np.diag(history['m'][i]**2)\n",
    "    if i ==0:\n",
    "        K_i = K_.copy()\n",
    "    s_ = np.sort(np.linalg.eigvals(K_))\n",
    "    s_hist[i] = s_\n",
    "\n",
    "plt.plot(x,s_hist)\n",
    "plt.grid(True)\n",
    "plt.xlabel('epoch')\n",
    "plt.ylabel(r'$K_{\\alpha}$')\n",
    "plt.title('K eigenvalue')\n",
    "# plt.savefig(plot_dir+model_name+'_K.jpg')\n",
    "plt.show()"
   ]
  },
  {
   "cell_type": "code",
   "execution_count": null,
   "id": "bc89500e",
   "metadata": {},
   "outputs": [],
   "source": [
    "# Last few steps\n",
    "plt.plot(x[-10:],s_hist[-10:], '.-')\n",
    "plt.grid(True)\n",
    "plt.xlabel('epoch')\n",
    "plt.ylabel(r'$K_{\\alpha}$')\n",
    "plt.title('K eigenvalue')\n",
    "# plt.savefig(plot_dir+model_name+'_K.jpg')\n",
    "plt.show()"
   ]
  },
  {
   "cell_type": "code",
   "execution_count": null,
   "id": "146f5f7d",
   "metadata": {},
   "outputs": [],
   "source": [
    "# Mass parameter of the model\n",
    "plt.plot(x,history['m'])\n",
    "plt.title('Mass evolution')\n",
    "plt.xlabel('epoch')\n",
    "plt.ylabel('mass')\n",
    "plt.legend()\n",
    "plt.grid(True)\n",
    "# plt.savefig(plot_dir+model_name+'_mass.jpg')\n",
    "plt.show()"
   ]
  },
  {
   "cell_type": "code",
   "execution_count": null,
   "id": "9d625908",
   "metadata": {},
   "outputs": [],
   "source": [
    "# Last few steps\n",
    "plt.plot(x[-10:],history['m'][-10:], '.-')\n",
    "# plt.axhline(np.sqrt(m**2 + 2. + 2.), ls='--', color='C3', label='Minimum Cholesky mass limit')\n",
    "plt.title('Mass evolution')\n",
    "plt.xlabel('epoch')\n",
    "plt.ylabel('mass')\n",
    "# plt.legend()\n",
    "plt.grid(True)\n",
    "# plt.savefig(plot_dir+model_name+'_mass.jpg')\n",
    "plt.show()"
   ]
  },
  {
   "cell_type": "code",
   "execution_count": null,
   "id": "0d28be1d",
   "metadata": {},
   "outputs": [],
   "source": [
    "# K_rbm off diagonal part\n",
    "Kin = (-rbm.sig**2 * (rbm.w.t() @ rbm.w)).data.numpy()\n",
    "Mss = np.diag((rbm.m**2).data.numpy())\n",
    "K = Kin + Mss\n",
    "\n",
    "K_off = K - np.diag(np.diag(K))\n",
    "plt.imshow(K_off, cmap='gray', vmax=K_off.max(), vmin=K_off.min())\n",
    "plt.colorbar()\n",
    "plt.title('K off diagonal')\n",
    "# plt.savefig(plot_dir+model_name+'_K_img.jpg')\n",
    "plt.show()"
   ]
  },
  {
   "cell_type": "code",
   "execution_count": null,
   "id": "8ba56839",
   "metadata": {},
   "outputs": [],
   "source": [
    "# Coupling matrix as image\n",
    "w_rbm = rbm.w.data.numpy()\n",
    "plt.imshow(w_rbm, cmap='gray')\n",
    "plt.colorbar()\n",
    "plt.title('W')\n",
    "# plt.savefig(plot_dir+model_name+'_K_img.jpg')\n",
    "plt.show()"
   ]
  },
  {
   "cell_type": "code",
   "execution_count": null,
   "id": "e101b4b5",
   "metadata": {},
   "outputs": [],
   "source": [
    "# Evolution of det(ww^T)\n",
    "det_hist = np.zeros(len(x))\n",
    "for i in range(len(x)):\n",
    "    det = np.linalg.det(history['w'][i].T @ history['w'][i])\n",
    "    det_hist[i] = det\n",
    "\n",
    "plt.plot(x,det_hist,'C9')\n",
    "plt.grid(True)\n",
    "plt.xlabel('epoch')\n",
    "plt.ylabel(r'det($ww$)')\n",
    "plt.title(r'det(ww) evolution')\n",
    "# plt.savefig(plot_dir+model_name+'_w.jpg')\n",
    "plt.show()"
   ]
  },
  {
   "cell_type": "markdown",
   "id": "e6632268",
   "metadata": {},
   "source": [
    "## Regenerated image"
   ]
  },
  {
   "cell_type": "code",
   "execution_count": null,
   "id": "082ded86",
   "metadata": {},
   "outputs": [],
   "source": [
    "from torchvision.utils import make_grid"
   ]
  },
  {
   "cell_type": "code",
   "execution_count": null,
   "id": "47d6ad8d",
   "metadata": {},
   "outputs": [],
   "source": [
    "def show_img(file_name,img):\n",
    "    npimg = np.transpose(img.numpy(),(1,2,0))\n",
    "    f = \"./%s.png\" % file_name\n",
    "    plt.imshow(npimg)"
   ]
  },
  {
   "cell_type": "code",
   "execution_count": null,
   "id": "01a4c5d7",
   "metadata": {},
   "outputs": [],
   "source": [
    "for data in train_dl:\n",
    "    1+1"
   ]
  },
  {
   "cell_type": "code",
   "execution_count": null,
   "id": "517a4cac",
   "metadata": {},
   "outputs": [],
   "source": [
    "data[0].shape"
   ]
  },
  {
   "cell_type": "code",
   "execution_count": null,
   "id": "82a5b273",
   "metadata": {},
   "outputs": [],
   "source": [
    "p_v, v_, _, _, v = rbm.forward(data[0][0:24].reshape(-1,784))"
   ]
  },
  {
   "cell_type": "code",
   "execution_count": null,
   "id": "e2d8b833",
   "metadata": {},
   "outputs": [],
   "source": [
    "show_img(\"real\",make_grid(v.view(24,1,28,28).data))"
   ]
  },
  {
   "cell_type": "code",
   "execution_count": null,
   "id": "f7e15f99",
   "metadata": {},
   "outputs": [],
   "source": [
    "v_scaled = (v_ - v_.min())/(v_ - v_.min()).max()\n",
    "show_img(\"real\",make_grid(v_scaled.view(24,1,28,28).data))"
   ]
  }
 ],
 "metadata": {
  "kernelspec": {
   "display_name": "Python 3 (ipykernel)",
   "language": "python",
   "name": "python3"
  },
  "language_info": {
   "codemirror_mode": {
    "name": "ipython",
    "version": 3
   },
   "file_extension": ".py",
   "mimetype": "text/x-python",
   "name": "python",
   "nbconvert_exporter": "python",
   "pygments_lexer": "ipython3",
   "version": "3.10.9"
  }
 },
 "nbformat": 4,
 "nbformat_minor": 5
}
